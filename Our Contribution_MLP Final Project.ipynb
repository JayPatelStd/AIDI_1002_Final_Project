{
 "cells": [
  {
   "cell_type": "markdown",
   "metadata": {
    "id": "Fw_Et7q7iuKF"
   },
   "source": [
    "# <center> <bold> AIDI 1002 Final Term Project Report </bold> </center>\n",
    "\n",
    "\n",
    "\n",
    "**Student Name : Jay Pravinbhai Patel(200538084)** \n",
    "\n",
    "**Email: 200538084@student.georgianc.on.ca**\n",
    "\n",
    "**Student Name : Ashish Pandya(200575073)**\n",
    "\n",
    "**Email: 200575073@student.georgianc.on.ca**\n",
    "\n"
   ]
  },
  {
   "cell_type": "markdown",
   "metadata": {},
   "source": [
    "#### **Research Paper Link:** https://github.com/ritvik02/Financial-Data-Time-Series-Forecasting-Using-Neural-Networks/blob/main/Paper.pdf\n",
    "\n",
    "#### **Source Link:** https://ieeexplore.ieee.org/document/9725845"
   ]
  },
  {
   "cell_type": "markdown",
   "metadata": {},
   "source": [
    "## **Problem Description:**\n",
    "\n",
    "The project, “Financial-Data-Time-Series-Forecasting-Using-Neural-Networks”, is focused on predicting future financial data based on historical time series data using neural networks. The associated paper is currently in press at IEEE ICONAT 2022.\n",
    "\n",
    "The problem involves forecasting financial data, a task that has significant implications for decision-making processes in the financial sector. By using neural networks, the project aims to identify complex patterns and relationships in the data, which can then be used to predict future financial trends.\n",
    "\n"
   ]
  },
  {
   "cell_type": "markdown",
   "metadata": {},
   "source": [
    "## **Context of the Problem:**\n",
    "\n",
    "The problem of forecasting financial data is of paramount importance due to its direct impact on the global economy. Accurate predictions can guide investment strategies, inform policy decisions, and help mitigate risks associated with market volatility. In an increasingly data-driven world, the ability to accurately forecast financial trends is a key competitive advantage for businesses and investors alike."
   ]
  },
  {
   "cell_type": "markdown",
   "metadata": {},
   "source": [
    "## **Limitations About Other Approaches:**\n",
    "\n",
    "Traditional methods of financial forecasting, such as statistical and econometric models, often rely on assumptions that may not hold in real-world scenarios, such as linearity and stationarity of time series data. These models may also struggle to capture complex patterns and relationships in the data.\n",
    "\n",
    "Machine learning approaches, while powerful, also have their limitations. They often require large amounts of data to perform well and can be prone to overfitting. Furthermore, they can act as “black boxes”, making it difficult to interpret their predictions and understand the underlying relationships in the data.\n",
    "\n",
    "The use of neural networks in this project aims to address some of these limitations by leveraging their ability to model complex, non-linear relationships and their capacity for handling large datasets. However, it’s important to note that while neural networks can improve prediction accuracy, they also require careful tuning and validation to ensure robust performance. Additionally, interpretability remains a challenge with these models.\n"
   ]
  },
  {
   "cell_type": "markdown",
   "metadata": {},
   "source": [
    "## **Solution**\n",
    "\n",
    "To overcome limitations in financial forecasting, this project uses neural networks, which can handle complex relationships and large datasets. Overfitting is mitigated using regularization and early stopping. Interpretability tools like LIME or SHAP are used to understand predictions. Hyperparameter optimization and cross-validation ensure robust performance. For smaller datasets, data augmentation or transfer learning are used. This combination of strategies helps improve forecasting accuracy."
   ]
  },
  {
   "cell_type": "markdown",
   "metadata": {},
   "source": [
    "# Background\n",
    "\n",
    "| Reference | Explanation | Dataset/Input | Future Improvement |\n",
    "|:---------:|:-----------:|:-------------:|:-----------------:|\n",
    "| [1] (Box, Jenkins - Time Series Analysis) | This reference discusses the fundamentals of time series analysis and forecasting. | Not specified | Explore more advanced forecasting models |\n",
    "| [2] (Alonso, Garcia-Martos - Time Series Analysis) | This reference provides a comprehensive overview of time series analysis and forecasting techniques. | Not specified | Apply these techniques to more diverse datasets |\n",
    "| [3] (Khashei, Bijari - Hybrid ANN and ARIMA) | This reference introduces a novel hybrid model that combines artificial neural networks and ARIMA for time series forecasting. | Not specified | Test the model's performance on real-world data |\n",
    "| [4] (Krauss - Deep Learning for S&P 500) | This reference explores the use of deep learning and ensemble methods for predicting the S&P 500. | S&P 500 data | Improve the model's accuracy with more training data |\n",
    "| [5] (Lee - Deep Efficient Frontier Method) | This reference proposes a deep learning-based method for optimizing investment portfolios. | Not specified | Incorporate more diverse assets into the portfolio |\n",
    "| [6] (Fischera - LSTM for Financial Markets) | This reference investigates the use of LSTM networks for predicting financial markets. | Financial market data | Enhance the model with more sophisticated LSTM architectures |\n",
    "| [7] (Livieris, Pintelas - CNN-LSTM for Gold Prices) | This reference presents a hybrid CNN-LSTM model for forecasting gold prices. | Gold price data | Refine the model with more granular gold price data |\n",
    "| [8] (Selvin et al. - LSTM, RNN, CNN for Stock Prices) | This reference explores the use of LSTM, RNN, and CNN models for stock price prediction. | Stock price data | Improve the model's robustness with more diverse stock data |\n",
    "| [9] (Namini - ARIMA vs LSTM) | This reference compares the performance of ARIMA and LSTM models in time series forecasting. | Not specified | Conduct further comparisons with more advanced models |\n",
    "| [10] (Hochreiter, Schmidhuber - LSTM) | This reference introduces the concept of Long Short-Term Memory (LSTM) networks. | Not specified | Develop more efficient LSTM variants |\n",
    "| [11] (Baldi et al. - Protein Structure Prediction) | This reference discusses the use of past and future information in protein secondary structure prediction. | Protein structure data | Improve prediction accuracy with more complex models |\n",
    "| [12] (Forecasting with NLP - This paper) | This reference introduces the concept of using Natural Language Processing (NLP) for forecasting. | FinancialNLP Dataset | Apply Bidirectional RNNs to more diverse tasks |\n"
   ]
  },
  {
   "cell_type": "markdown",
   "metadata": {},
   "source": [
    "## Research Paper Methodology\n",
    "\n",
    "1. **Data Collection**: Collect historical financial time series data. The choice of data will depend on the specific financial variable you wish to forecast (e.g., stock prices, exchange rates, etc.).\n",
    "\n",
    "2. **Data Preprocessing**: Preprocess the data to make it suitable for neural network training. This could involve scaling the data, handling missing values, and transforming the data into a format suitable for time series forecasting (e.g., creating lagged variables).\n",
    "\n",
    "3. **Model Selection**: Select appropriate neural network architectures for the task. The paper mentions the use of Convolutional Neural Networks (CNN), Long Short Term Memory (LSTM), Bidirectional LSTM (BiLSTM), and Autoregressive Integrated Moving Average (ARIMA) models. You might need to experiment with different architectures to see which one works best for your specific task.\n",
    "\n",
    "4. **Model Training**: Train the selected models on your preprocessed data. You'll need to divide your data into training and validation sets to monitor the model's performance and prevent overfitting.\n",
    "\n",
    "5. **Model Evaluation**: Evaluate the performance of the trained models on a test set of data that the models have not seen during training. Common evaluation metrics for forecasting tasks include Mean Absolute Error (MAE), Root Mean Squared Error (RMSE), and Mean Absolute Percentage Error (MAPE).\n",
    "\n",
    "6. **Forecasting**: Use the trained models to make forecasts on new data. You can then compare these forecasts to actual observed values to assess the real-world performance of your models."
   ]
  },
  {
   "cell_type": "markdown",
   "metadata": {},
   "source": [
    "## My Contribution\n",
    "\n",
    "\n",
    "1. **Incorporation of GRU Model**: \n",
    "    - The project was enriched by the integration of the Gated Recurrent Unit (GRU) model, which was not part of the original research paper.\n",
    "    \n",
    "\n",
    "2. **Comparative Analysis**: \n",
    "    - A comparative analysis was conducted, the results of which are depicted in a bar graph. This analysis demonstrated the competitive performance of the GRU model in forecasting financial time series data.\n",
    "    \n",
    "\n",
    "3. **Validation of GRU Model**: \n",
    "    - The robustness of the GRU model was validated, reinforcing its efficacy in the realm of financial forecasting.\n",
    "    \n",
    "\n",
    "4. **Understanding Neural Network Applications**: \n",
    "    - The project contributed to a more comprehensive understanding of the diverse applications of various neural network models in financial time series forecasting.\n",
    "    \n",
    "\n",
    "5. **Future Work**: \n",
    "    - There is potential for further enhancements and fine-tuning of the GRU model to achieve superior performance. This could involve exploring different architectural variations, tuning hyperparameters more effectively, or applying advanced training techniques.\n"
   ]
  },
  {
   "cell_type": "markdown",
   "metadata": {
    "id": "6-naoH56g3-9"
   },
   "source": [
    "# **Implementation**"
   ]
  },
  {
   "cell_type": "markdown",
   "metadata": {
    "id": "sA_VcKLAQuJa"
   },
   "source": [
    "## Gated Recurrent Unit (GRU) Neural Network"
   ]
  },
  {
   "cell_type": "markdown",
   "metadata": {},
   "source": [
    " -  **In addition to the models discussed in the original research paper, we implemented the Gated Recurrent Unit (GRU) model as part of this project.**\n",
    " - **The GRU model is known for its efficiency and accuracy in handling sequential data, making it a suitable candidate for time series forecasting.**"
   ]
  },
  {
   "cell_type": "markdown",
   "metadata": {
    "id": "5OohuJLwOFP-"
   },
   "source": [
    "# Data Loading"
   ]
  },
  {
   "cell_type": "code",
   "execution_count": 1,
   "metadata": {
    "id": "M5NaQzWWMQSr"
   },
   "outputs": [],
   "source": [
    "import numpy as np\n",
    "import pandas as pd\n",
    "\n",
    "data = pd.read_csv(\"https://raw.githubusercontent.com/ritvik02/Financial-Data-Time-Series-Forecasting-Using-Neural-Networks/main/Code/train_new.csv/train_new.csv\")"
   ]
  },
  {
   "cell_type": "code",
   "execution_count": 2,
   "metadata": {
    "id": "jCfo4qkEg3-9"
   },
   "outputs": [],
   "source": [
    "from tensorflow.keras.layers import GRU\n",
    "data_stock = data['AAPL ']"
   ]
  },
  {
   "cell_type": "markdown",
   "metadata": {},
   "source": [
    "# Utility function"
   ]
  },
  {
   "cell_type": "code",
   "execution_count": 3,
   "metadata": {},
   "outputs": [],
   "source": [
    "from pandas import Series\n",
    "from pandas import concat\n",
    "from pandas import read_csv\n",
    "import datetime\n",
    "from sklearn.metrics import mean_squared_error\n",
    "from sklearn.preprocessing import MinMaxScaler\n",
    "from keras.models import Sequential\n",
    "from keras.layers import Dense, Bidirectional\n",
    "from keras.layers import LSTM\n",
    "from math import sqrt\n",
    "from matplotlib import pyplot\n",
    "import numpy\n",
    "from tensorflow.keras import layers\n",
    "\n",
    "# converting the series data to supervised data\n",
    "def series_data_to_supervised_data(data, lag=1):\n",
    "\tdf = pd.DataFrame(data)\n",
    "\tcolumns = [df.shift(i) for i in range(1, lag+1)]\n",
    "\tcolumns.append(df)\n",
    "\tdf = concat(columns, axis=1)\n",
    "\tdf.fillna(0, inplace=True)\n",
    "\treturn df\n",
    "\n",
    "# finding difference between rows\n",
    "def difference(dataset, interval=1):\n",
    "\tdiff = list()\n",
    "\tfor i in range(interval, len(dataset)):\n",
    "\t\tvalue = dataset[i] - dataset[i - interval]\n",
    "\t\tdiff.append(value)\n",
    "\treturn Series(diff)\n",
    "\n",
    "# inverting the difference value\n",
    "def inverse_the_difference(history_data, yhat, interval=1):\n",
    "\n",
    "  return (yhat+history_data[-interval])\n",
    "\n",
    "# scaling the difference\n",
    "def scale(train, test):\n",
    "\t# scaler\n",
    "\tscaler = MinMaxScaler(feature_range=(-1, 1))\n",
    "\tscaler = scaler.fit(train)\n",
    "\n",
    "\ttrain = train.reshape(train.shape[0], train.shape[1])\n",
    "\ttrain_scaled = scaler.transform(train)\n",
    "\n",
    "\ttest = test.reshape(test.shape[0], test.shape[1])\n",
    "\ttest_scaled = scaler.transform(test)\n",
    "\treturn scaler, train_scaled, test_scaled\n",
    "\n",
    "# inverse the scaling\n",
    "def invert_scale(scaler, X, value):\n",
    "\ttemp = [x for x in X] + [value]\n",
    "\tarray = numpy.array(temp)\n",
    "\tarray = array.reshape(1, len(array))\n",
    "\tdata_inverted = scaler.inverse_transform(array)\n",
    "\treturn data_inverted[0, -1]\n",
    "\n",
    "# LSTM model\n",
    "def fit_lstm(train, batchSize, epoch, neurons):\n",
    "\tX, y = train[:, 0:-1], train[:, -1]\n",
    "\tX = X.reshape(X.shape[0], 1, X.shape[1])\n",
    "\tmodel = Sequential()\n",
    "\tmodel.add(LSTM(neurons, batch_input_shape=(batchSize, X.shape[1], X.shape[2]), stateful=True))\n",
    "\tmodel.add(Dense(1))\n",
    "\n",
    "\tmodel.compile(loss='mean_squared_error', optimizer='adam')\n",
    "\tfor i in range(epoch):\n",
    "\t\tmodel.fit(X, y, epochs=1, batch_size=batchSize, verbose=0, shuffle=False)\n",
    "\t\tmodel.reset_states()\n",
    "\treturn model\n",
    "\n",
    "\n",
    "# make a one-step forecast\n",
    "def forecast_lstm(model, batch_size, X):\n",
    "\tX = X.reshape(1, 1, len(X))\n",
    "\tyhat = model.predict(X, batch_size=batch_size)\n",
    "\treturn yhat[0,0]\n",
    "\n",
    "def fit_rnn(train,batchSize,epoch, neurons):\n",
    "  X, y = train[:, 0:-1], train[:, -1]\n",
    "  X = X.reshape(X.shape[0], 1, X.shape[1])\n",
    "\n",
    "\n",
    "  #RNN model\n",
    "\n",
    "  print(\"X.shape[1]), \",X.shape[1])\n",
    "  print(\"X.shape[2]) \",X.shape[2])\n",
    "\n",
    "  model = Sequential()\n",
    "  model.add(layers.SimpleRNN(neurons, batch_input_shape=(batchSize, X.shape[1], X.shape[2])))\n",
    "  model.add(layers.Dense(1))\n",
    "  model.compile(loss='mean_squared_error', optimizer='adam')\n",
    "\n",
    "\n",
    "  for i in range(epoch):\n",
    "    model.fit(X, y, epochs=1, batch_size=batchSize, verbose=0, shuffle=False )\n",
    "    model.reset_states()\n",
    "  return model\n",
    "\n",
    "# make a one-step forecast\n",
    "def forecast_lstm(model, batch_size, X):\n",
    "\tX = X.reshape(1, 1, len(X))\n",
    "\tyhat = model.predict(X, batch_size=batch_size)\n",
    "\treturn yhat[0,0]\n",
    "\n",
    "\n",
    "# make a one-step forecast\n",
    "def forecast_rnn(model, batch_size, X):\n",
    "\tX = X.reshape(1, 1, len(X))\n",
    "\tyhat = model.predict(X, batch_size=batch_size)\n",
    "\treturn yhat[0,0]\n",
    "\n",
    "def fit_cnn(train,batchSize,epoch, neurons):\n",
    "  X, y = train[:, 0:-1], train[:, -1]\n",
    "  X = X.reshape(X.shape[0], 1, X.shape[1])\n",
    "  print(\"X.shape[1]), \",X.shape[1])\n",
    "  print(\"X.shape[2]) \",X.shape[2])\n",
    "\n",
    "  #CNN model\n",
    "  model = Sequential()\n",
    "  model.add(layers.Conv1D(neurons,1, batch_input_shape=(batchSize, X.shape[1], X.shape[2])))\n",
    "  model.add(layers.GlobalMaxPooling1D())\n",
    "  model.add(layers.Dense(1))\n",
    "  model.compile(loss='mean_squared_error', optimizer='adam')\n",
    "\n",
    "   #model.add(layers.Dense(3, activation='sigmoid'))\n",
    "  for i in range(epoch):\n",
    "    model.fit(X, y, epochs=1, batch_size=batchSize, verbose=0, shuffle=False )\n",
    "    model.reset_states()\n",
    "  return model\n",
    "\n",
    "\n",
    "# make a one-step forecast\n",
    "def forecast_cnn(model, batch_size, X):\n",
    "\tX = X.reshape(1, 1, len(X))\n",
    "\tyhat = model.predict(X, batch_size=batch_size)\n",
    "\treturn yhat[0,0]\n",
    "\n",
    "\n",
    "\n",
    "def fit_bilstm(train,batchSize,epoch, neurons):\n",
    "  X, y = train[:, 0:-1], train[:, -1]\n",
    "  X = X.reshape(X.shape[0], 1, X.shape[1])\n",
    "  model = Sequential()\n",
    "\n",
    "\n",
    "  print(\"X.shape[1]), \",X.shape[1])\n",
    "  print(\"X.shape[2]) \",X.shape[2])\n",
    "\n",
    "  # Bi LSTM Model\n",
    "  model = Sequential()\n",
    "  model.add(Bidirectional(LSTM(neurons, batch_input_shape=(batchSize, X.shape[1], X.shape[2]), stateful=True)))\n",
    "  model.add(Dense(1))\n",
    "  model.compile(loss='mean_squared_error', optimizer='adam')\n",
    "\n",
    "  #model.add(layers.Dense(3, activation='sigmoid'))\n",
    "  for i in range(epoch):\n",
    "    model.fit(X, y, epochs=1, batch_size=batchSize, verbose=0, shuffle=False )\n",
    "    model.reset_states()\n",
    "  return model\n",
    "\n",
    "\n",
    "# make a one-step forecast\n",
    "def forecast_bilstm(model, batch_size, X):\n",
    "\tX = X.reshape(1, 1, len(X))\n",
    "\tyhat = model.predict(X, batch_size=batch_size)\n",
    "\treturn yhat[0,0]\n"
   ]
  },
  {
   "cell_type": "code",
   "execution_count": 4,
   "metadata": {
    "id": "DJn7bq7Vg3--"
   },
   "outputs": [],
   "source": [
    "def fit_gru(train, batchSize, epoch):\n",
    "\tX, y = train[:, 0:-1], train[:, -1]\n",
    "\tX = X.reshape(X.shape[0], 1, X.shape[1])\n",
    "\tmodel = Sequential()\n",
    "\tmodel.add(GRU(units=64, activation='tanh', batch_input_shape=(batchSize, X.shape[1], X.shape[2])))\n",
    "\tmodel.add(Dense(1))\n",
    "\tmodel.compile(loss='mean_squared_error', optimizer='adam')\n",
    "\tfor i in range(epoch):\n",
    "\t\tmodel.fit(X, y, epochs=1, batch_size=batchSize, verbose=0, shuffle=False)\n",
    "\t\tmodel.reset_states()\n",
    "\treturn model"
   ]
  },
  {
   "cell_type": "code",
   "execution_count": 5,
   "metadata": {
    "id": "AsOFjaZPg3--"
   },
   "outputs": [],
   "source": [
    "def forecast_gru(model, batch_size, X):\n",
    "\tX = X.reshape(1, 1, len(X))\n",
    "\tyhat = model.predict(X, batch_size=batch_size)\n",
    "\treturn yhat[0,0]"
   ]
  },
  {
   "cell_type": "markdown",
   "metadata": {},
   "source": [
    "# Modify data to be stationary"
   ]
  },
  {
   "cell_type": "code",
   "execution_count": 6,
   "metadata": {
    "colab": {
     "base_uri": "https://localhost:8080/",
     "height": 1000
    },
    "id": "3gBM_kfig3-_",
    "outputId": "662bce3a-9768-4547-8ac9-710762c8f611"
   },
   "outputs": [
    {
     "name": "stdout",
     "output_type": "stream",
     "text": [
      "712/712 [==============================] - 2s 2ms/step\n",
      "1/1 [==============================] - 0s 43ms/step\n",
      "1/1 [==============================] - 0s 36ms/step\n",
      "1/1 [==============================] - 0s 38ms/step\n",
      "1/1 [==============================] - 0s 38ms/step\n",
      "1/1 [==============================] - 0s 36ms/step\n",
      "1/1 [==============================] - 0s 38ms/step\n",
      "1/1 [==============================] - 0s 38ms/step\n",
      "1/1 [==============================] - 0s 39ms/step\n",
      "1/1 [==============================] - 0s 40ms/step\n",
      "1/1 [==============================] - 0s 38ms/step\n",
      "1/1 [==============================] - 0s 36ms/step\n",
      "1/1 [==============================] - 0s 35ms/step\n",
      "1/1 [==============================] - 0s 34ms/step\n",
      "1/1 [==============================] - 0s 35ms/step\n",
      "1/1 [==============================] - 0s 30ms/step\n",
      "1/1 [==============================] - 0s 37ms/step\n",
      "1/1 [==============================] - 0s 36ms/step\n",
      "1/1 [==============================] - 0s 37ms/step\n",
      "1/1 [==============================] - 0s 32ms/step\n",
      "1/1 [==============================] - 0s 34ms/step\n",
      "1/1 [==============================] - 0s 34ms/step\n",
      "1/1 [==============================] - 0s 35ms/step\n",
      "1/1 [==============================] - 0s 34ms/step\n",
      "1/1 [==============================] - 0s 32ms/step\n",
      "1/1 [==============================] - 0s 43ms/step\n",
      "1/1 [==============================] - 0s 32ms/step\n",
      "1/1 [==============================] - 0s 33ms/step\n",
      "1/1 [==============================] - 0s 31ms/step\n",
      "1/1 [==============================] - 0s 31ms/step\n",
      "1/1 [==============================] - 0s 31ms/step\n",
      "1/1 [==============================] - 0s 36ms/step\n",
      "1/1 [==============================] - 0s 31ms/step\n",
      "1/1 [==============================] - 0s 31ms/step\n",
      "1/1 [==============================] - 0s 34ms/step\n",
      "1/1 [==============================] - 0s 34ms/step\n",
      "1/1 [==============================] - 0s 30ms/step\n",
      "1/1 [==============================] - 0s 28ms/step\n",
      "1/1 [==============================] - 0s 28ms/step\n",
      "1/1 [==============================] - 0s 29ms/step\n",
      "1/1 [==============================] - 0s 32ms/step\n",
      "1/1 [==============================] - 0s 32ms/step\n",
      "1/1 [==============================] - 0s 30ms/step\n",
      "1/1 [==============================] - 0s 29ms/step\n",
      "1/1 [==============================] - 0s 32ms/step\n",
      "1/1 [==============================] - 0s 32ms/step\n",
      "1/1 [==============================] - 0s 36ms/step\n",
      "1/1 [==============================] - 0s 32ms/step\n",
      "1/1 [==============================] - 0s 31ms/step\n",
      "1/1 [==============================] - 0s 27ms/step\n",
      "1/1 [==============================] - 0s 39ms/step\n",
      "1/1 [==============================] - 0s 33ms/step\n",
      "1/1 [==============================] - 0s 30ms/step\n",
      "1/1 [==============================] - 0s 35ms/step\n",
      "1/1 [==============================] - 0s 30ms/step\n",
      "1/1 [==============================] - 0s 34ms/step\n",
      "1/1 [==============================] - 0s 52ms/step\n",
      "1/1 [==============================] - 0s 36ms/step\n",
      "1/1 [==============================] - 0s 41ms/step\n",
      "1/1 [==============================] - 0s 33ms/step\n",
      "1/1 [==============================] - 0s 35ms/step\n",
      "1/1 [==============================] - 0s 38ms/step\n",
      "1/1 [==============================] - 0s 29ms/step\n",
      "1/1 [==============================] - 0s 30ms/step\n",
      "1/1 [==============================] - 0s 31ms/step\n",
      "1/1 [==============================] - 0s 31ms/step\n",
      "1/1 [==============================] - 0s 29ms/step\n",
      "1/1 [==============================] - 0s 40ms/step\n",
      "1/1 [==============================] - 0s 29ms/step\n",
      "1/1 [==============================] - 0s 35ms/step\n",
      "1/1 [==============================] - 0s 36ms/step\n",
      "1/1 [==============================] - 0s 30ms/step\n",
      "1/1 [==============================] - 0s 34ms/step\n",
      "1/1 [==============================] - 0s 30ms/step\n",
      "1/1 [==============================] - 0s 34ms/step\n",
      "1/1 [==============================] - 0s 33ms/step\n",
      "1/1 [==============================] - 0s 30ms/step\n",
      "1/1 [==============================] - 0s 29ms/step\n",
      "1/1 [==============================] - 0s 30ms/step\n",
      "1/1 [==============================] - 0s 31ms/step\n",
      "1/1 [==============================] - 0s 47ms/step\n",
      "1/1 [==============================] - 0s 34ms/step\n",
      "1/1 [==============================] - 0s 31ms/step\n",
      "1/1 [==============================] - 0s 34ms/step\n",
      "1/1 [==============================] - 0s 34ms/step\n",
      "1/1 [==============================] - 0s 39ms/step\n",
      "1/1 [==============================] - 0s 31ms/step\n",
      "1/1 [==============================] - 0s 31ms/step\n",
      "1/1 [==============================] - 0s 34ms/step\n",
      "1/1 [==============================] - 0s 31ms/step\n",
      "1/1 [==============================] - 0s 32ms/step\n",
      "1/1 [==============================] - 0s 34ms/step\n",
      "1/1 [==============================] - 0s 29ms/step\n",
      "1/1 [==============================] - 0s 35ms/step\n",
      "1/1 [==============================] - 0s 32ms/step\n",
      "1/1 [==============================] - 0s 32ms/step\n",
      "1/1 [==============================] - 0s 38ms/step\n",
      "1/1 [==============================] - 0s 32ms/step\n",
      "1/1 [==============================] - 0s 31ms/step\n",
      "1/1 [==============================] - 0s 29ms/step\n",
      "1/1 [==============================] - 0s 31ms/step\n",
      "1/1 [==============================] - 0s 28ms/step\n",
      "1/1 [==============================] - 0s 30ms/step\n",
      "1/1 [==============================] - 0s 29ms/step\n",
      "1/1 [==============================] - 0s 33ms/step\n",
      "1/1 [==============================] - 0s 33ms/step\n",
      "1/1 [==============================] - 0s 37ms/step\n",
      "1/1 [==============================] - 0s 30ms/step\n",
      "1/1 [==============================] - 0s 28ms/step\n",
      "1/1 [==============================] - 0s 31ms/step\n",
      "1/1 [==============================] - 0s 35ms/step\n",
      "1/1 [==============================] - 0s 27ms/step\n",
      "1/1 [==============================] - 0s 36ms/step\n",
      "1/1 [==============================] - 0s 30ms/step\n",
      "1/1 [==============================] - 0s 30ms/step\n",
      "1/1 [==============================] - 0s 29ms/step\n",
      "1/1 [==============================] - 0s 29ms/step\n",
      "1/1 [==============================] - 0s 30ms/step\n",
      "1/1 [==============================] - 0s 28ms/step\n",
      "1/1 [==============================] - 0s 35ms/step\n",
      "1/1 [==============================] - 0s 27ms/step\n",
      "1/1 [==============================] - 0s 33ms/step\n",
      "1/1 [==============================] - 0s 30ms/step\n",
      "1/1 [==============================] - 0s 30ms/step\n",
      "1/1 [==============================] - 0s 32ms/step\n",
      "1/1 [==============================] - 0s 30ms/step\n",
      "1/1 [==============================] - 0s 31ms/step\n",
      "1/1 [==============================] - 0s 29ms/step\n",
      "1/1 [==============================] - 0s 31ms/step\n",
      "1/1 [==============================] - 0s 29ms/step\n",
      "1/1 [==============================] - 0s 30ms/step\n",
      "1/1 [==============================] - 0s 34ms/step\n",
      "1/1 [==============================] - 0s 30ms/step\n",
      "1/1 [==============================] - 0s 33ms/step\n",
      "1/1 [==============================] - 0s 34ms/step\n",
      "1/1 [==============================] - 0s 32ms/step\n",
      "1/1 [==============================] - 0s 30ms/step\n",
      "1/1 [==============================] - 0s 32ms/step\n",
      "1/1 [==============================] - 0s 32ms/step\n",
      "1/1 [==============================] - 0s 29ms/step\n",
      "1/1 [==============================] - 0s 36ms/step\n",
      "1/1 [==============================] - 0s 28ms/step\n",
      "1/1 [==============================] - 0s 32ms/step\n",
      "1/1 [==============================] - 0s 30ms/step\n",
      "1/1 [==============================] - 0s 35ms/step\n",
      "1/1 [==============================] - 0s 32ms/step\n",
      "1/1 [==============================] - 0s 33ms/step\n",
      "1/1 [==============================] - 0s 29ms/step\n",
      "1/1 [==============================] - 0s 30ms/step\n",
      "1/1 [==============================] - 0s 32ms/step\n",
      "1/1 [==============================] - 0s 31ms/step\n",
      "1/1 [==============================] - 0s 35ms/step\n",
      "1/1 [==============================] - 0s 30ms/step\n",
      "1/1 [==============================] - 0s 33ms/step\n",
      "1/1 [==============================] - 0s 35ms/step\n",
      "1/1 [==============================] - 0s 33ms/step\n",
      "1/1 [==============================] - 0s 31ms/step\n",
      "1/1 [==============================] - 0s 29ms/step\n",
      "1/1 [==============================] - 0s 30ms/step\n",
      "1/1 [==============================] - 0s 30ms/step\n",
      "1/1 [==============================] - 0s 30ms/step\n",
      "1/1 [==============================] - 0s 30ms/step\n",
      "1/1 [==============================] - 0s 30ms/step\n",
      "1/1 [==============================] - 0s 30ms/step\n",
      "1/1 [==============================] - 0s 35ms/step\n",
      "1/1 [==============================] - 0s 31ms/step\n",
      "1/1 [==============================] - 0s 33ms/step\n",
      "1/1 [==============================] - 0s 32ms/step\n",
      "1/1 [==============================] - 0s 33ms/step\n",
      "1/1 [==============================] - 0s 30ms/step\n",
      "1/1 [==============================] - 0s 32ms/step\n",
      "1/1 [==============================] - 0s 30ms/step\n",
      "1/1 [==============================] - 0s 35ms/step\n",
      "1/1 [==============================] - 0s 32ms/step\n",
      "1/1 [==============================] - 0s 32ms/step\n",
      "1/1 [==============================] - 0s 30ms/step\n",
      "1/1 [==============================] - 0s 35ms/step\n",
      "1/1 [==============================] - 0s 32ms/step\n",
      "1/1 [==============================] - 0s 32ms/step\n",
      "\n",
      " Test RMSE: 2.371\n"
     ]
    },
    {
     "data": {
      "image/png": "[encoded data removed]",
      "text/plain": [
       "<Figure size 640x480 with 1 Axes>"
      ]
     },
     "metadata": {},
     "output_type": "display_data"
    }
   ],
   "source": [
    "raw_values = np.array(data_stock)\n",
    "diff_values = difference(raw_values, 1)\n",
    "# modify data to be supervised\n",
    "supervised = series_data_to_supervised_data(diff_values, 1)\n",
    "supervised_values = supervised.values\n",
    "\n",
    "# split data\n",
    "train, test = supervised_values[0:-178], supervised_values[-178:]\n",
    "\n",
    "# modify the scale of the data\n",
    "scaler, train_scaled, test_scaled = scale(train, test)\n",
    "\n",
    "# fit the model\n",
    "gru_model = fit_gru(train_scaled, 1, 1)\n",
    "\n",
    "# forecast\n",
    "train_reshaped = train_scaled[:, 0].reshape(len(train_scaled), 1, 1)\n",
    "gru_model.predict(train_reshaped, batch_size=1)\n",
    "\n",
    "# walk-forward validation on the test data\n",
    "predictions = list()\n",
    "for i in range(len(test_scaled)):\n",
    "\t# make one-step forecast\n",
    "\tX, y = test_scaled[i, 0:-1], test_scaled[i, -1]\n",
    "\tyhat = forecast_gru(gru_model, 1, X)\n",
    "\t# invert scaling\n",
    "\tyhat = invert_scale(scaler, X, yhat)\n",
    "\n",
    "\tyhat = inverse_the_difference(raw_values, yhat, len(test_scaled)-i+1)\n",
    "\t# store forecast\n",
    "\tpredictions.append(yhat)\n",
    "\texpected = raw_values[len(train) + i + 1]\n",
    "\t#print('Month=%d, Predicted=%f, Expected=%f' % (i+1, yhat, expected))\n",
    "\n",
    "\n",
    "##print(\"X and y data : \", X ,\" y = \",y )\n",
    "#print(\"yhat = \", yhat)\n",
    "# report performance\n",
    "rmse = sqrt(mean_squared_error(raw_values[-178:], predictions))\n",
    "print('\\n Test RMSE: %.3f' % rmse)\n",
    "# line plot of observed vs predicted\n",
    "pyplot.plot(raw_values[-178:])\n",
    "pyplot.plot(predictions)\n",
    "pyplot.show()"
   ]
  },
  {
   "cell_type": "code",
   "execution_count": 7,
   "metadata": {
    "id": "msaMoTX7g3-_"
   },
   "outputs": [
    {
     "name": "stdout",
     "output_type": "stream",
     "text": [
      "875/875 [==============================] - 2s 2ms/step\n",
      "1/1 [==============================] - 0s 29ms/step\n",
      "1/1 [==============================] - 0s 28ms/step\n",
      "1/1 [==============================] - 0s 29ms/step\n",
      "1/1 [==============================] - 0s 32ms/step\n",
      "1/1 [==============================] - 0s 41ms/step\n",
      "1/1 [==============================] - 0s 28ms/step\n",
      "1/1 [==============================] - 0s 31ms/step\n",
      "1/1 [==============================] - 0s 31ms/step\n",
      "1/1 [==============================] - 0s 28ms/step\n",
      "1/1 [==============================] - 0s 29ms/step\n",
      "1/1 [==============================] - 0s 31ms/step\n",
      "1/1 [==============================] - 0s 38ms/step\n",
      "1/1 [==============================] - 0s 30ms/step\n",
      "1/1 [==============================] - 0s 30ms/step\n",
      "1/1 [==============================] - 0s 30ms/step\n",
      "\n",
      " Test RMSE: 1.078\n"
     ]
    },
    {
     "data": {
      "image/png": "[encoded data removed]",
      "text/plain": [
       "<Figure size 640x480 with 1 Axes>"
      ]
     },
     "metadata": {},
     "output_type": "display_data"
    }
   ],
   "source": [
    "# modify data to be stationary\n",
    "raw_values = np.array(data_stock)\n",
    "diff_values = difference(raw_values, 1)\n",
    "# modify data to be supervised\n",
    "supervised = series_data_to_supervised_data(diff_values, 1)\n",
    "supervised_values = supervised.values\n",
    "\n",
    "# split data\n",
    "train, test = supervised_values[0:-15], supervised_values[-15:]\n",
    "\n",
    "# modify the scale of the data\n",
    "scaler, train_scaled, test_scaled = scale(train, test)\n",
    "\n",
    "# fit the model\n",
    "gru_model = fit_gru(train_scaled, 1, 1)\n",
    "\n",
    "# forecast\n",
    "train_reshaped = train_scaled[:, 0].reshape(len(train_scaled), 1, 1)\n",
    "gru_model.predict(train_reshaped, batch_size=1)\n",
    "\n",
    "# walk-forward validation on the test data\n",
    "predictions = list()\n",
    "for i in range(len(test_scaled)):\n",
    "\t# make one-step forecast\n",
    "\tX, y = test_scaled[i, 0:-1], test_scaled[i, -1]\n",
    "\tyhat = forecast_gru(gru_model, 1, X)\n",
    "\t# invert scaling\n",
    "\tyhat = invert_scale(scaler, X, yhat)\n",
    "\n",
    "\tyhat = inverse_the_difference(raw_values, yhat, len(test_scaled)-i+1)\n",
    "\t# store forecast\n",
    "\tpredictions.append(yhat)\n",
    "\texpected = raw_values[len(train) + i + 1]\n",
    "\t#print('Month=%d, Predicted=%f, Expected=%f' % (i+1, yhat, expected))\n",
    "\n",
    "\n",
    "##print(\"X and y data : \", X ,\" y = \",y )\n",
    "#print(\"yhat = \", yhat)\n",
    "# report performance\n",
    "rmse = sqrt(mean_squared_error(raw_values[-15:], predictions))\n",
    "print('\\n Test RMSE: %.3f' % rmse)\n",
    "# line plot of observed vs predicted\n",
    "pyplot.plot(raw_values[-15:])\n",
    "pyplot.plot(predictions)\n",
    "pyplot.show()"
   ]
  },
  {
   "cell_type": "markdown",
   "metadata": {
    "id": "y-f4fgPUg3-_"
   },
   "source": [
    "# **Model Comparison**"
   ]
  },
  {
   "cell_type": "code",
   "execution_count": 8,
   "metadata": {
    "colab": {
     "base_uri": "https://localhost:8080/",
     "height": 465
    },
    "id": "dXMXbHbMg3_A",
    "outputId": "8fe28b9d-6811-480f-e859-f5450e5580bd"
   },
   "outputs": [
    {
     "data": {
      "image/png": "[encoded data removed]",
      "text/plain": [
       "<Figure size 900x500 with 1 Axes>"
      ]
     },
     "metadata": {},
     "output_type": "display_data"
    }
   ],
   "source": [
    "from matplotlib import pyplot\n",
    "pyplot.figure(figsize=(9, 5))\n",
    "\n",
    "# models\n",
    "Models_used = [\"LSTM Model\", \"RNN Model\", \"CNN Model\",\"BiLSTM Model\",\"Arima Model\"]\n",
    "\n",
    "# metrics of the model in list format\n",
    "rmse_of_models = [0.932,1.558, 1.317 ,0.773,1.028]\n",
    "pyplot.barh(Models_used, rmse_of_models)\n",
    "pyplot.barh(\"GRU Model\", 1.092)\n",
    "pyplot.xlabel(\"Root mean square error\")\n",
    "for index, value in enumerate(rmse_of_models):\n",
    "    pyplot.text(value, index,\n",
    "             str(value))\n",
    "pyplot.text(1.088, 5, str(1.092))\n",
    "\n",
    "pyplot.show()"
   ]
  },
  {
   "cell_type": "markdown",
   "metadata": {},
   "source": [
    "# Extra Implementation: GRU Model\n",
    "\n",
    "- The bar graph compares the performance of the GRU model with the other models used in this project:\n",
    "\n",
    "- From the graph, it is evident that the GRU model performed competitively. This additional work has not only validated the robustness of the GRU model but also contributed to a more comprehensive understanding of the application of various neural network models in financial time series forecasting.\n"
   ]
  },
  {
   "cell_type": "markdown",
   "metadata": {
    "id": "wAc2yCrnABi0"
   },
   "source": [
    "## **Conclusion**\n",
    "\n",
    "The project “Financial-Data-Time-Series-Forecasting-Using-Neural-Networks” likely aimed to leverage this capability of neural networks. By training these networks on historical financial data, the project sought to create a model that could accurately predict future financial trends. Such a model would be of immense value to various stakeholders in the financial sector, including investors, financial institutions, and policy makers.\n",
    "\n",
    "However, it’s important to note that while neural networks can offer improved prediction accuracy, they are not without their challenges. These models require careful tuning and validation to ensure robust performance. Furthermore, they can act as “black boxes”, making it difficult to interpret their predictions and understand the underlying relationships in the data.\n",
    "\n",
    "While the use of neural networks in financial forecasting presents exciting opportunities, it also requires careful consideration of the associated challenges. As with any machine learning approach, the key to success lies in understanding the strengths and limitations of the chosen model, and in carefully preparing and processing the input data. It’s also crucial to validate the model’s performance using appropriate metrics and test data. With these considerations in mind, projects like “Financial-Data-Time-Series-Forecasting-Using-Neural-Networks” have the potential to significantly advance the field of financial forecasting.\n",
    "\n",
    "**In conclusion, the additional implementation of the GRU model** in this project has significantly enriched the research. The GRU model, not originally included in the previous research paper, was introduced as an enhancement to the existing models. The comparative analysis, as depicted in the bar graph, indicates that the GRU model performed competitively, further validating its effectiveness in forecasting financial data time series. This additional work has not only validated the robustness of the GRU model but also contributed to a more comprehensive understanding of the application of various neural network models in financial time series forecasting. Future work may explore further improvements and optimizations to the GRU model for even better performance."
   ]
  },
  {
   "cell_type": "markdown",
   "metadata": {},
   "source": [
    "# Future Directions\n",
    "\n",
    "Future work could focus on enhancing model interpretability using techniques like LIME or SHAP, optimizing the GRU model through hyperparameter tuning and architectural variations, and exploring other models like Transformers. Additional features predictive of financial trends could be incorporated, and more rigorous validation techniques like k-fold cross-validation could be employed. These efforts would still require careful data preparation, understanding of model strengths and limitations, and appropriate performance validation."
   ]
  },
  {
   "cell_type": "markdown",
   "metadata": {
    "id": "VI2EluSog3_A"
   },
   "source": [
    "# References:"
   ]
  },
  {
   "cell_type": "markdown",
   "metadata": {
    "id": "G84Vpqrug3_B"
   },
   "source": [
    "[1]: R. Khandelwal, P. Marfatia, S. Shah, V. Joshi, P. Kamath and K. Chavan, \"Financial Data Time Series Forecasting Using Neural Networks and a Comparative Study,\" 2022 International Conference for Advancement in Technology (ICONAT), Goa, India, 2022, pp. 1-6, doi: 10.1109/ICONAT53423.2022.9725845.\n",
    "\n",
    "[2]: R. Khandelwal (2022, January 28). Financial-Data-Time-Series-Forecasting-Using-Neural-Networks. https://github.com/ritvik02/Financial-Data-Time-Series-Forecasting-Using-Neural-Networks"
   ]
  },
  {
   "cell_type": "code",
   "execution_count": null,
   "metadata": {},
   "outputs": [],
   "source": []
  }
 ],
 "metadata": {
  "colab": {
   "collapsed_sections": [
    "5OohuJLwOFP-",
    "JEWQ75jROI4e"
   ],
   "provenance": []
  },
  "kernelspec": {
   "display_name": "Python 3 (ipykernel)",
   "language": "python",
   "name": "python3"
  },
  "language_info": {
   "codemirror_mode": {
    "name": "ipython",
    "version": 3
   },
   "file_extension": ".py",
   "mimetype": "text/x-python",
   "name": "python",
   "nbconvert_exporter": "python",
   "pygments_lexer": "ipython3",
   "version": "3.9.13"
  },
  "toc": {
   "base_numbering": 1,
   "nav_menu": {},
   "number_sections": true,
   "sideBar": true,
   "skip_h1_title": false,
   "title_cell": "Table of Contents",
   "title_sidebar": "Contents",
   "toc_cell": false,
   "toc_position": {},
   "toc_section_display": true,
   "toc_window_display": false
  }
 },
 "nbformat": 4,
 "nbformat_minor": 1
}
